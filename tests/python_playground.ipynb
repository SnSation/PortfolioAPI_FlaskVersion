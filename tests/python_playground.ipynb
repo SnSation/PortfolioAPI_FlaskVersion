{
 "cells": [
  {
   "cell_type": "code",
   "execution_count": 1,
   "metadata": {},
   "outputs": [],
   "source": [
    "from datetime import datetime as dt"
   ]
  },
  {
   "cell_type": "code",
   "execution_count": 3,
   "metadata": {},
   "outputs": [
    {
     "data": {
      "text/plain": [
       "datetime.datetime(2021, 1, 16, 22, 41, 59, 57050)"
      ]
     },
     "execution_count": 3,
     "metadata": {},
     "output_type": "execute_result"
    }
   ],
   "source": [
    "dt.utcnow()"
   ]
  },
  {
   "cell_type": "code",
   "execution_count": 1,
   "metadata": {},
   "outputs": [],
   "source": [
    "import requests"
   ]
  },
  {
   "cell_type": "code",
   "execution_count": null,
   "metadata": {},
   "outputs": [],
   "source": []
  },
  {
   "cell_type": "code",
   "execution_count": 2,
   "metadata": {},
   "outputs": [
    {
     "data": {
      "text/plain": [
       "[{'author': 1,\n",
       "  'content': 'This is a sample blog post for display purposes only. This post is an example of a blogpost created, stored, and served with the site API.',\n",
       "  'created_on': 'Sat, 16 Jan 2021 21:11:31 GMT',\n",
       "  'id': 4,\n",
       "  'last_edit': None,\n",
       "  'title': 'Sample Blog Post'},\n",
       " {'author': 1,\n",
       "  'content': \"Finding the ideal bed sheets to fit your room decor isn't always easy. There's all these different color schemes, styles and patterns to choose from. So where do you start? \",\n",
       "  'created_on': 'Sat, 16 Jan 2021 21:46:25 GMT',\n",
       "  'id': 5,\n",
       "  'last_edit': None,\n",
       "  'title': 'How to find the best sheets for your room'},\n",
       " {'author': 1,\n",
       "  'content': 'How to make cooking fun you ask? Throw on a My Favorite Murder podcast episode and voila! Not only will you have company. You will be entertained.',\n",
       "  'created_on': 'Sat, 16 Jan 2021 21:47:43 GMT',\n",
       "  'id': 6,\n",
       "  'last_edit': None,\n",
       "  'title': 'Cooking made fun'},\n",
       " {'author': 1,\n",
       "  'content': 'So you want to talk about moist chocolate chip cookies? Yeah, I hate that word too. But this is serious business. My trick is to take the cookies out at exactly 7 minutes. Yeah, you heard that right. They will continue baking after you take them out.',\n",
       "  'created_on': 'Sat, 16 Jan 2021 21:49:12 GMT',\n",
       "  'id': 7,\n",
       "  'last_edit': None,\n",
       "  'title': 'Moist Chocolate Chip Cookies'},\n",
       " {'author': 2,\n",
       "  'content': 'You dog may be suffering from SAD. Try peanut butter. It helps.',\n",
       "  'created_on': 'Sat, 16 Jan 2021 21:53:57 GMT',\n",
       "  'id': 8,\n",
       "  'last_edit': None,\n",
       "  'title': 'Dog seem down?'},\n",
       " {'author': 3,\n",
       "  'content': \"This guy over here has 2 thumbs. He also has 8 fingers, because thumbs aren't fingers.\",\n",
       "  'created_on': 'Sat, 16 Jan 2021 21:54:37 GMT',\n",
       "  'id': 9,\n",
       "  'last_edit': None,\n",
       "  'title': 'This Guy'},\n",
       " {'author': 1,\n",
       "  'content': 'This post is to display post editing (everything in parentheses was added after the post was created) (heres another edit to show use the last edit column)',\n",
       "  'created_on': 'Sat, 16 Jan 2021 22:26:10 GMT',\n",
       "  'id': 10,\n",
       "  'last_edit': 'Sat, 16 Jan 2021 22:42:13 GMT',\n",
       "  'title': 'Another Post (Edited) (edited again)'},\n",
       " {'author': 2,\n",
       "  'content': \"My dog is so fluffy. I don't even need a pillow or blanket. So forget that blog post about sheets. Just get yourself a dog.\",\n",
       "  'created_on': 'Sun, 17 Jan 2021 00:33:52 GMT',\n",
       "  'id': 12,\n",
       "  'last_edit': 'Sun, 17 Jan 2021 00:33:52 GMT',\n",
       "  'title': 'I love my dog'}]"
      ]
     },
     "execution_count": 2,
     "metadata": {},
     "output_type": "execute_result"
    }
   ],
   "source": [
    "test_content = requests.get('http://a-blair-portfolio-api.herokuapp.com/api/all_blogposts').json()\n",
    "test_content"
   ]
  },
  {
   "cell_type": "code",
   "execution_count": null,
   "metadata": {},
   "outputs": [],
   "source": []
  }
 ],
 "metadata": {
  "kernelspec": {
   "display_name": "Python 3",
   "language": "python",
   "name": "python3"
  },
  "language_info": {
   "codemirror_mode": {
    "name": "ipython",
    "version": 3
   },
   "file_extension": ".py",
   "mimetype": "text/x-python",
   "name": "python",
   "nbconvert_exporter": "python",
   "pygments_lexer": "ipython3",
   "version": "3.8.3"
  }
 },
 "nbformat": 4,
 "nbformat_minor": 4
}
